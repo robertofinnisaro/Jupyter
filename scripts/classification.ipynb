{
 "cells": [
  {
   "cell_type": "code",
   "execution_count": 10,
   "id": "a0e0f288",
   "metadata": {},
   "outputs": [
    {
     "name": "stdout",
     "output_type": "stream",
     "text": [
      "../datasets/vibration dataset/ folder already exists.\n",
      "../figures/xgboost/ folder already exists.\n"
     ]
    }
   ],
   "source": [
    "datasetname = \"Vibration_dataset.csv\"\n",
    "datasetdir = \"../datasets/vibration dataset/\"\n",
    "figuredir = \"../figures/xgboost/\"\n",
    "import os\n",
    "\n",
    "# You should change 'test' to your preferred folder.\n",
    "CHECK_FOLDER = os.path.isdir(datasetdir)\n",
    "\n",
    "# If folder doesn't exist, then create it.\n",
    "if not CHECK_FOLDER:\n",
    "    os.makedirs(datasetdir)\n",
    "    print(\"created folder : \", datasetdir)\n",
    "\n",
    "else:\n",
    "    print(datasetdir, \"folder already exists.\")\n",
    "    \n",
    "# You should change 'test' to your preferred folder.\n",
    "CHECK_FOLDER = os.path.isdir(figuredir)\n",
    "\n",
    "# If folder doesn't exist, then create it.\n",
    "if not CHECK_FOLDER:\n",
    "    os.makedirs(figuredir)\n",
    "    print(\"created folder : \", figuredir)\n",
    "\n",
    "else:\n",
    "    print(figuredir, \"folder already exists.\")"
   ]
  },
  {
   "cell_type": "code",
   "execution_count": 11,
   "id": "343f31dc",
   "metadata": {},
   "outputs": [],
   "source": [
    "import numpy as np\n",
    "import pandas as pd\n",
    "import seaborn as sns\n",
    "#from tqdm.notebook import tqdm\n",
    "import matplotlib.pyplot as plt\n",
    "\n",
    "#import torch\n",
    "#import torch.nn as nn\n",
    "#import torch.optim as optim\n",
    "#from torch.utils.data import Dataset, DataLoader, WeightedRandomSampler\n",
    "\n",
    "from sklearn.preprocessing import MinMaxScaler    \n",
    "from sklearn.model_selection import train_test_split\n",
    "from sklearn.metrics import confusion_matrix, classification_report"
   ]
  },
  {
   "cell_type": "code",
   "execution_count": 12,
   "id": "45a55eac",
   "metadata": {},
   "outputs": [],
   "source": [
    "plt.rcParams['agg.path.chunksize'] = 100000\n",
    "dpi = 1200"
   ]
  },
  {
   "cell_type": "code",
   "execution_count": 13,
   "id": "e758f5e0",
   "metadata": {},
   "outputs": [
    {
     "data": {
      "text/plain": [
       "(      speed  vibration Faults\n",
       " 0  4.217042   0.003062   Ball\n",
       " 1  4.219672   0.004049   Ball\n",
       " 2  4.221645   0.001418   Ball\n",
       " 3  0.036346  -0.002199   Ball\n",
       " 4  0.036017  -0.003515   Ball,\n",
       " array(['Ball', 'Innerrace', 'Outerrace'], dtype=object))"
      ]
     },
     "execution_count": 13,
     "metadata": {},
     "output_type": "execute_result"
    }
   ],
   "source": [
    "#df = pd.read_csv(\"../datasets/allfaultdatasetfiltered13.csv\")\n",
    "## to rename outerfault \n",
    "#df = pd.read_csv(datasetdir+datasetname)\n",
    "#df = pd.read_csv(\"../datasets/allfaultdatasetfiltered13.csv\")\n",
    "## to rename outerfault \n",
    "df = pd.read_csv(datasetdir+datasetname, index_col =\"class\" )\n",
    "\"\"\"Droping Series Column which is no longer required \n",
    "https://pandas.pydata.org/pandas-docs/stable/reference/api/pandas.DataFrame.drop.html\n",
    "\n",
    "df.drop(['B', 'C'], axis=1)\n",
    "\n",
    "also rearrange columns order\n",
    "df = df[['speed','vibration','Faults']]\n",
    "\n",
    "#https://pandas.pydata.org/pandas-docs/stable/reference/api/pandas.DataFrame.rename.html\n",
    "#df.rename(columns={\"A\": \"a\", \"B\": \"c\"})\n",
    "\"\"\"\n",
    "df = df.drop(['series'], axis=1)\n",
    "df = df.rename(index={'BallFault':'Ball'})\n",
    "df = df.rename(index={'InnerFault':'Innerrace'})\n",
    "df = df.rename(index={'outerFault':'Outerrace'})\n",
    "df = df.reset_index()\n",
    "df = df.rename(columns  ={'class':'Faults'})\n",
    "df = df[['speed','vibration','Faults']]\n",
    "df.head() , df['Faults'].unique()"
   ]
  },
  {
   "cell_type": "code",
   "execution_count": 14,
   "id": "54e581dd",
   "metadata": {},
   "outputs": [
    {
     "name": "stderr",
     "output_type": "stream",
     "text": [
      "/tmp/ipykernel_414681/623848290.py:2: SettingWithCopyWarning: \n",
      "A value is trying to be set on a copy of a slice from a DataFrame.\n",
      "Try using .loc[row_indexer,col_indexer] = value instead\n",
      "\n",
      "See the caveats in the documentation: https://pandas.pydata.org/pandas-docs/stable/user_guide/indexing.html#returning-a-view-versus-a-copy\n",
      "  newBallFault['z_score'] = (newBallFault['vibration'] - newBallFault['vibration'].mean()) / newBallFault['vibration'].std()\n",
      "/tmp/ipykernel_414681/623848290.py:4: SettingWithCopyWarning: \n",
      "A value is trying to be set on a copy of a slice from a DataFrame.\n",
      "Try using .loc[row_indexer,col_indexer] = value instead\n",
      "\n",
      "See the caveats in the documentation: https://pandas.pydata.org/pandas-docs/stable/user_guide/indexing.html#returning-a-view-versus-a-copy\n",
      "  newInnerFault['z_score'] = (newInnerFault['vibration'] - newInnerFault['vibration'].mean()) / newInnerFault['vibration'].std()\n",
      "/tmp/ipykernel_414681/623848290.py:6: SettingWithCopyWarning: \n",
      "A value is trying to be set on a copy of a slice from a DataFrame.\n",
      "Try using .loc[row_indexer,col_indexer] = value instead\n",
      "\n",
      "See the caveats in the documentation: https://pandas.pydata.org/pandas-docs/stable/user_guide/indexing.html#returning-a-view-versus-a-copy\n",
      "  newouterFault['z_score'] = (newouterFault['vibration'] - newouterFault['vibration'].mean()) / newouterFault['vibration'].std()\n"
     ]
    }
   ],
   "source": [
    "newBallFault = df[df['Faults']=='Ball']\n",
    "newBallFault['z_score'] = (newBallFault['vibration'] - newBallFault['vibration'].mean()) / newBallFault['vibration'].std()\n",
    "newInnerFault = df[df['Faults']=='Innerrace']\n",
    "newInnerFault['z_score'] = (newInnerFault['vibration'] - newInnerFault['vibration'].mean()) / newInnerFault['vibration'].std()\n",
    "newouterFault = df[df['Faults']=='Outerrace']\n",
    "newouterFault['z_score'] = (newouterFault['vibration'] - newouterFault['vibration'].mean()) / newouterFault['vibration'].std()"
   ]
  },
  {
   "cell_type": "code",
   "execution_count": 15,
   "id": "73ea0ee2",
   "metadata": {},
   "outputs": [
    {
     "name": "stderr",
     "output_type": "stream",
     "text": [
      "/tmp/ipykernel_414681/2952831548.py:2: FutureWarning: The frame.append method is deprecated and will be removed from pandas in a future version. Use pandas.concat instead.\n",
      "  new_df = new_df.append(newInnerFault)\n",
      "/tmp/ipykernel_414681/2952831548.py:3: FutureWarning: The frame.append method is deprecated and will be removed from pandas in a future version. Use pandas.concat instead.\n",
      "  new_df = new_df.append(newouterFault)\n"
     ]
    }
   ],
   "source": [
    "new_df = newBallFault\n",
    "new_df = new_df.append(newInnerFault)\n",
    "new_df = new_df.append(newouterFault)"
   ]
  },
  {
   "cell_type": "code",
   "execution_count": 16,
   "id": "e29c677e",
   "metadata": {},
   "outputs": [],
   "source": [
    "new_df = new_df.drop_duplicates(subset = [\"speed\", 'vibration','z_score'])"
   ]
  },
  {
   "cell_type": "code",
   "execution_count": 17,
   "id": "eefbe0d1",
   "metadata": {},
   "outputs": [],
   "source": [
    "df = new_df"
   ]
  },
  {
   "cell_type": "code",
   "execution_count": 18,
   "id": "ae1a1b9b",
   "metadata": {},
   "outputs": [
    {
     "data": {
      "text/html": [
       "<div>\n",
       "<style scoped>\n",
       "    .dataframe tbody tr th:only-of-type {\n",
       "        vertical-align: middle;\n",
       "    }\n",
       "\n",
       "    .dataframe tbody tr th {\n",
       "        vertical-align: top;\n",
       "    }\n",
       "\n",
       "    .dataframe thead th {\n",
       "        text-align: right;\n",
       "    }\n",
       "</style>\n",
       "<table border=\"1\" class=\"dataframe\">\n",
       "  <thead>\n",
       "    <tr style=\"text-align: right;\">\n",
       "      <th></th>\n",
       "      <th>speed</th>\n",
       "      <th>vibration</th>\n",
       "      <th>z_score</th>\n",
       "      <th>Faults</th>\n",
       "    </tr>\n",
       "  </thead>\n",
       "  <tbody>\n",
       "    <tr>\n",
       "      <th>0</th>\n",
       "      <td>4.217042</td>\n",
       "      <td>0.003062</td>\n",
       "      <td>0.291073</td>\n",
       "      <td>Ball</td>\n",
       "    </tr>\n",
       "    <tr>\n",
       "      <th>1</th>\n",
       "      <td>4.219672</td>\n",
       "      <td>0.004049</td>\n",
       "      <td>0.377935</td>\n",
       "      <td>Ball</td>\n",
       "    </tr>\n",
       "    <tr>\n",
       "      <th>2</th>\n",
       "      <td>4.221645</td>\n",
       "      <td>0.001418</td>\n",
       "      <td>0.146302</td>\n",
       "      <td>Ball</td>\n",
       "    </tr>\n",
       "    <tr>\n",
       "      <th>3</th>\n",
       "      <td>0.036346</td>\n",
       "      <td>-0.002199</td>\n",
       "      <td>-0.172193</td>\n",
       "      <td>Ball</td>\n",
       "    </tr>\n",
       "    <tr>\n",
       "      <th>4</th>\n",
       "      <td>0.036017</td>\n",
       "      <td>-0.003515</td>\n",
       "      <td>-0.288009</td>\n",
       "      <td>Ball</td>\n",
       "    </tr>\n",
       "    <tr>\n",
       "      <th>...</th>\n",
       "      <td>...</td>\n",
       "      <td>...</td>\n",
       "      <td>...</td>\n",
       "      <td>...</td>\n",
       "    </tr>\n",
       "    <tr>\n",
       "      <th>5667524</th>\n",
       "      <td>0.126758</td>\n",
       "      <td>0.010297</td>\n",
       "      <td>1.222905</td>\n",
       "      <td>Outerrace</td>\n",
       "    </tr>\n",
       "    <tr>\n",
       "      <th>5667542</th>\n",
       "      <td>3.131096</td>\n",
       "      <td>-0.001213</td>\n",
       "      <td>0.036795</td>\n",
       "      <td>Outerrace</td>\n",
       "    </tr>\n",
       "    <tr>\n",
       "      <th>5667560</th>\n",
       "      <td>1.329083</td>\n",
       "      <td>-0.000555</td>\n",
       "      <td>0.104573</td>\n",
       "      <td>Outerrace</td>\n",
       "    </tr>\n",
       "    <tr>\n",
       "      <th>5667571</th>\n",
       "      <td>3.977693</td>\n",
       "      <td>-0.000884</td>\n",
       "      <td>0.070684</td>\n",
       "      <td>Outerrace</td>\n",
       "    </tr>\n",
       "    <tr>\n",
       "      <th>5667578</th>\n",
       "      <td>0.155362</td>\n",
       "      <td>0.001747</td>\n",
       "      <td>0.341795</td>\n",
       "      <td>Outerrace</td>\n",
       "    </tr>\n",
       "  </tbody>\n",
       "</table>\n",
       "<p>870992 rows × 4 columns</p>\n",
       "</div>"
      ],
      "text/plain": [
       "            speed  vibration   z_score     Faults\n",
       "0        4.217042   0.003062  0.291073       Ball\n",
       "1        4.219672   0.004049  0.377935       Ball\n",
       "2        4.221645   0.001418  0.146302       Ball\n",
       "3        0.036346  -0.002199 -0.172193       Ball\n",
       "4        0.036017  -0.003515 -0.288009       Ball\n",
       "...           ...        ...       ...        ...\n",
       "5667524  0.126758   0.010297  1.222905  Outerrace\n",
       "5667542  3.131096  -0.001213  0.036795  Outerrace\n",
       "5667560  1.329083  -0.000555  0.104573  Outerrace\n",
       "5667571  3.977693  -0.000884  0.070684  Outerrace\n",
       "5667578  0.155362   0.001747  0.341795  Outerrace\n",
       "\n",
       "[870992 rows x 4 columns]"
      ]
     },
     "execution_count": 18,
     "metadata": {},
     "output_type": "execute_result"
    }
   ],
   "source": [
    "df = df[['speed', 'vibration', 'z_score', 'Faults']]\n",
    "df"
   ]
  },
  {
   "cell_type": "code",
   "execution_count": 19,
   "id": "23b4b7d8",
   "metadata": {},
   "outputs": [
    {
     "data": {
      "text/plain": [
       "<bound method DataFrame.info of             speed  vibration   z_score     Faults\n",
       "0        4.217042   0.003062  0.291073       Ball\n",
       "1        4.219672   0.004049  0.377935       Ball\n",
       "2        4.221645   0.001418  0.146302       Ball\n",
       "3        0.036346  -0.002199 -0.172193       Ball\n",
       "4        0.036017  -0.003515 -0.288009       Ball\n",
       "...           ...        ...       ...        ...\n",
       "5667524  0.126758   0.010297  1.222905  Outerrace\n",
       "5667542  3.131096  -0.001213  0.036795  Outerrace\n",
       "5667560  1.329083  -0.000555  0.104573  Outerrace\n",
       "5667571  3.977693  -0.000884  0.070684  Outerrace\n",
       "5667578  0.155362   0.001747  0.341795  Outerrace\n",
       "\n",
       "[870992 rows x 4 columns]>"
      ]
     },
     "execution_count": 19,
     "metadata": {},
     "output_type": "execute_result"
    }
   ],
   "source": [
    "df.info"
   ]
  },
  {
   "cell_type": "code",
   "execution_count": null,
   "id": "ff799562",
   "metadata": {},
   "outputs": [],
   "source": []
  }
 ],
 "metadata": {
  "kernelspec": {
   "display_name": "Python 3 (ipykernel)",
   "language": "python",
   "name": "python3"
  },
  "language_info": {
   "codemirror_mode": {
    "name": "ipython",
    "version": 3
   },
   "file_extension": ".py",
   "mimetype": "text/x-python",
   "name": "python",
   "nbconvert_exporter": "python",
   "pygments_lexer": "ipython3",
   "version": "3.8.10"
  }
 },
 "nbformat": 4,
 "nbformat_minor": 5
}
